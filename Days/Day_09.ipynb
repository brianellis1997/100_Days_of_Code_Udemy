{
 "cells": [
  {
   "cell_type": "code",
   "execution_count": 8,
   "metadata": {},
   "outputs": [],
   "source": [
    "# Day 9\n",
    "bids = {}\n",
    "\n",
    "logo = '''\n",
    "                         ___________\n",
    "                         \\         /\n",
    "                          )_______(\n",
    "                          |\"\"\"\"\"\"\"|_.-._,.---------.,_.-._\n",
    "                          |       | | |               | | ''-.\n",
    "                          |       |_| |_             _| |_..-'\n",
    "                          |_______| '-' `'---------'` '-'\n",
    "                          )\"\"\"\"\"\"\"(\n",
    "                         /_________\\\\\n",
    "                       .-------------.\n",
    "                      /_______________\\\\\n",
    "'''\n",
    "\n",
    "def secret_auction():\n",
    "    while True:\n",
    "        print(logo)\n",
    "        print(\"Welcome to the secret auction program.\")\n",
    "        print(\"What is your name?: \")\n",
    "        name = input()\n",
    "        print(name)\n",
    "        print(\"What's your bid?: $\")\n",
    "        try:\n",
    "            bid = float(input())\n",
    "            print(f'${bid}')\n",
    "        except ValueError:\n",
    "            print(\"You entered an invalid value for the bid! Please enter numerical values only.\")\n",
    "            continue\n",
    "        bids[name] = bid\n",
    "        print(\"Are there any other bidders? Type 'yes' or 'no'.\")\n",
    "        others = input().lower()\n",
    "        if others[0] == 'y':\n",
    "            continue\n",
    "        else:\n",
    "            break\n",
    "    \n",
    "    # Calculate highest bidder\n",
    "    highest_bidder = ['l', 0]\n",
    "    for name, value in bids.items():\n",
    "        if value > highest_bidder[1]:\n",
    "            highest_bidder[0] = name\n",
    "            highest_bidder[1] = value\n",
    "    \n",
    "    print(f\"The winner is {highest_bidder[0]} with a bid of ${highest_bidder[1]}\")"
   ]
  },
  {
   "cell_type": "code",
   "execution_count": 9,
   "metadata": {},
   "outputs": [
    {
     "name": "stdout",
     "output_type": "stream",
     "text": [
      "\n",
      "                         ___________\n",
      "                         \\         /\n",
      "                          )_______(\n",
      "                          |\"\"\"\"\"\"\"|_.-._,.---------.,_.-._\n",
      "                          |       | | |               | | ''-.\n",
      "                          |       |_| |_             _| |_..-'\n",
      "                          |_______| '-' `'---------'` '-'\n",
      "                          )\"\"\"\"\"\"\"(\n",
      "                         /_________\\\n",
      "                       .-------------.\n",
      "                      /_______________\\\n",
      "\n",
      "Welcome to the secret auction program.\n",
      "What is your name?: \n",
      "bb\n",
      "What's your bid?: $\n",
      "$90.0\n",
      "Are there any other bidders? Type 'yes' or 'no'.\n",
      "\n",
      "                         ___________\n",
      "                         \\         /\n",
      "                          )_______(\n",
      "                          |\"\"\"\"\"\"\"|_.-._,.---------.,_.-._\n",
      "                          |       | | |               | | ''-.\n",
      "                          |       |_| |_             _| |_..-'\n",
      "                          |_______| '-' `'---------'` '-'\n",
      "                          )\"\"\"\"\"\"\"(\n",
      "                         /_________\\\n",
      "                       .-------------.\n",
      "                      /_______________\\\n",
      "\n",
      "Welcome to the secret auction program.\n",
      "What is your name?: \n",
      "ii\n",
      "What's your bid?: $\n",
      "You entered an invalid value for the bid! Please enter numerical values only.\n",
      "\n",
      "                         ___________\n",
      "                         \\         /\n",
      "                          )_______(\n",
      "                          |\"\"\"\"\"\"\"|_.-._,.---------.,_.-._\n",
      "                          |       | | |               | | ''-.\n",
      "                          |       |_| |_             _| |_..-'\n",
      "                          |_______| '-' `'---------'` '-'\n",
      "                          )\"\"\"\"\"\"\"(\n",
      "                         /_________\\\n",
      "                       .-------------.\n",
      "                      /_______________\\\n",
      "\n",
      "Welcome to the secret auction program.\n",
      "What is your name?: \n",
      "n\n",
      "What's your bid?: $\n",
      "$90.0\n",
      "Are there any other bidders? Type 'yes' or 'no'.\n",
      "The winner is bb with a bid of $90.0\n"
     ]
    }
   ],
   "source": [
    "secret_auction()"
   ]
  },
  {
   "cell_type": "code",
   "execution_count": null,
   "metadata": {},
   "outputs": [],
   "source": []
  }
 ],
 "metadata": {
  "kernelspec": {
   "display_name": "Python 3.9.6 64-bit",
   "language": "python",
   "name": "python3"
  },
  "language_info": {
   "codemirror_mode": {
    "name": "ipython",
    "version": 3
   },
   "file_extension": ".py",
   "mimetype": "text/x-python",
   "name": "python",
   "nbconvert_exporter": "python",
   "pygments_lexer": "ipython3",
   "version": "3.9.6"
  },
  "orig_nbformat": 4,
  "vscode": {
   "interpreter": {
    "hash": "31f2aee4e71d21fbe5cf8b01ff0e069b9275f58929596ceb00d14d90e3e16cd6"
   }
  }
 },
 "nbformat": 4,
 "nbformat_minor": 2
}
