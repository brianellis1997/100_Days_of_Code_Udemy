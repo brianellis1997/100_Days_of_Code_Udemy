{
 "cells": [
  {
   "cell_type": "code",
   "execution_count": 15,
   "metadata": {},
   "outputs": [],
   "source": [
    "def tip_calculator():\n",
    "    print(\"Welcome to the tip calculator!\")\n",
    "    print(\"What was the total bill?\")\n",
    "    total_bill = float(input())\n",
    "    print(\"How much tip would you like to give? 10, 12, or 15?\")\n",
    "    tip = (float(input())/100)+1\n",
    "    print(\"how many people to split the bill?\")\n",
    "    split = int(input())\n",
    "    calc = round((total_bill * tip)/split, 2)\n",
    "    print(f\"Each person should pay ${calc}\")"
   ]
  },
  {
   "cell_type": "code",
   "execution_count": 17,
   "metadata": {},
   "outputs": [
    {
     "name": "stdout",
     "output_type": "stream",
     "text": [
      "Welcome to the tip calculator!\n",
      "What was the total bill?\n",
      "How much tip would you like to give? 10, 12, or 15?\n",
      "how many people to split the bill?\n",
      "Each person should pay $55.0\n"
     ]
    }
   ],
   "source": [
    "tip_calculator()"
   ]
  },
  {
   "cell_type": "code",
   "execution_count": null,
   "metadata": {},
   "outputs": [],
   "source": []
  }
 ],
 "metadata": {
  "kernelspec": {
   "display_name": "Python 3.8.5 ('base')",
   "language": "python",
   "name": "python3"
  },
  "language_info": {
   "codemirror_mode": {
    "name": "ipython",
    "version": 3
   },
   "file_extension": ".py",
   "mimetype": "text/x-python",
   "name": "python",
   "nbconvert_exporter": "python",
   "pygments_lexer": "ipython3",
   "version": "3.8.5"
  },
  "orig_nbformat": 4,
  "vscode": {
   "interpreter": {
    "hash": "cde9e06954608812f36a56132da0251c351f6ad8984d203ba87e4f78021e1e3f"
   }
  }
 },
 "nbformat": 4,
 "nbformat_minor": 2
}
