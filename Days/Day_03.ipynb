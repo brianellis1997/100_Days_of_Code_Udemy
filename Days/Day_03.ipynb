{
 "cells": [
  {
   "cell_type": "code",
   "execution_count": 7,
   "metadata": {},
   "outputs": [
    {
     "data": {
      "text/plain": [
       "['h', 'e', 'l', 'l', 'o']"
      ]
     },
     "execution_count": 7,
     "metadata": {},
     "output_type": "execute_result"
    }
   ],
   "source": [
    "w1 = 'true'\n",
    "w2 = 'love'\n",
    "w1 = [i for i in 'hello']\n",
    "w1"
   ]
  },
  {
   "cell_type": "code",
   "execution_count": 10,
   "metadata": {},
   "outputs": [
    {
     "name": "stdout",
     "output_type": "stream",
     "text": [
      "a\n",
      "l\n",
      "e\n",
      "x\n"
     ]
    }
   ],
   "source": [
    "name1 = 'alex'\n",
    "for char in name1.lower():\n",
    "    print (char)"
   ]
  },
  {
   "cell_type": "code",
   "execution_count": 11,
   "metadata": {},
   "outputs": [
    {
     "name": "stdout",
     "output_type": "stream",
     "text": [
      "The Love Calculator is calculating your score...\n",
      "Your score is 11.\n"
     ]
    }
   ],
   "source": [
    "print(\"The Love Calculator is calculating your score...\")\n",
    "name1 = input() # What is your name?\n",
    "name2 = input() # What is their name?\n",
    "# 🚨 Don't change the code above 👆\n",
    "# Write your code below this line 👇\n",
    "true_count = 0\n",
    "love_count = 0\n",
    "\n",
    "w1 = [i for i in 'true']\n",
    "w2 = [i for i in 'love']\n",
    "\n",
    "for char in name1.lower():\n",
    "  if char in w1:\n",
    "    true_count += 1\n",
    "  if char in w2:\n",
    "    love_count += 1\n",
    "\n",
    "for char in name2.lower():\n",
    "  if char in w1:\n",
    "    true_count += 1\n",
    "  if char in w2:\n",
    "    love_count += 1\n",
    "\n",
    "total_count = int(str(true_count) + str(love_count))\n",
    "\n",
    "if total_count < 10 or total_count > 90:\n",
    "  print(f'Your score is {total_count}, you go together like coke and mentos.')\n",
    "elif total_count > 40 and total_count < 50:\n",
    "  print(f'Your score is {total_count}, you are alright together.')\n",
    "else:\n",
    "  print(f'Your score is {total_count}.')"
   ]
  },
  {
   "cell_type": "code",
   "execution_count": 18,
   "metadata": {},
   "outputs": [],
   "source": [
    "# Treasure Island\n",
    "def treasure_island():\n",
    "    print('''\n",
    "    *******************************************************************************\n",
    "            |                   |                  |                     |\n",
    "    _________|________________.=\"\"_;=.______________|_____________________|_______\n",
    "    |                   |  ,-\"_,=\"\"     `\"=.|                  |\n",
    "    |___________________|__\"=._o`\"-._        `\"=.______________|___________________\n",
    "            |                `\"=._o`\"=._      _`\"=._                     |\n",
    "    _________|_____________________:=._o \"=._.\"_.-=\"'\"=.__________________|_______\n",
    "    |                   |    __.--\" , ; `\"=._o.\" ,-\"\"\"-._ \".   |\n",
    "    |___________________|_._\"  ,. .` ` `` ,  `\"-._\"-._   \". '__|___________________\n",
    "            |           |o`\"=._` , \"` `; .\". ,  \"-._\"-._; ;              |\n",
    "    _________|___________| ;`-.o`\"=._; .\" ` '`.\"\\` . \"-._ /_______________|_______\n",
    "    |                   | |o;    `\"-.o`\"=._``  '` \" ,__.--o;   |\n",
    "    |___________________|_| ;     (#) `-.o `\"=.`_.--\"_o.-; ;___|___________________\n",
    "    ____/______/______/___|o;._    \"      `\".o|o_.--\"    ;o;____/______/______/____\n",
    "    /______/______/______/_\"=._o--._        ; | ;        ; ;/______/______/______/_\n",
    "    ____/______/______/______/__\"=._o--._   ;o|o;     _._;o;____/______/______/____\n",
    "    /______/______/______/______/____\"=._o._; | ;_.--\"o.--\"_/______/______/______/_\n",
    "    ____/______/______/______/______/_____\"=.o|o_.--\"\"___/______/______/______/____\n",
    "    /______/______/______/______/______/______/______/______/______/______/[TomekK]\n",
    "    *******************************************************************************\n",
    "    ''')\n",
    "    print(\"Welcome to Treasure Island.\\nYour mission is to find the treasure.\")\n",
    "    left_right = input(\"Your first decision is whether to go left or right. Please input left or right.\")\n",
    "    if left_right.lower() == 'left':    \n",
    "        print(\"Nice choice! You escaped falling off a horrible cliff to your death!\")\n",
    "    else:\n",
    "        print(\"You fell off a cliff. \\nGame Over.\")\n",
    "        return\n",
    "    swim_wait = input(\"Now you come across a river, you think there is treasure on the other side. Do you swim or wait? Please input swim or wait.\")\n",
    "    if swim_wait.lower() == 'wait':\n",
    "        print(\"Great choice! You see a large body of trout come swimming across the river. Your patience saved your life.\")\n",
    "    else:\n",
    "        print(\"You got eaten by a giant trout.\\nGame over.\")\n",
    "        return\n",
    "    door = input(\"Finally, you come across a a hallway of doors. There is a red, blue, and yellow door. Which do you choose? Please enter red, yellow, or blue.\")\n",
    "    if door.lower() == 'red':\n",
    "        print(\"As you open the door you become engulfed in flames. \\nGame Over.\")\n",
    "    elif door.lower() == 'blue':\n",
    "        print(\"You open the door and a group of wildebeasts trample and eat you.\\nGame Over.\")\n",
    "    elif door.lower() == 'yellow':\n",
    "        print(\"You found the treasure!\\nYou Win!\")\n",
    "    else:\n",
    "        print(\"Game Over.\")"
   ]
  },
  {
   "cell_type": "code",
   "execution_count": 19,
   "metadata": {},
   "outputs": [
    {
     "name": "stdout",
     "output_type": "stream",
     "text": [
      "\n",
      "    *******************************************************************************\n",
      "            |                   |                  |                     |\n",
      "    _________|________________.=\"\"_;=.______________|_____________________|_______\n",
      "    |                   |  ,-\"_,=\"\"     `\"=.|                  |\n",
      "    |___________________|__\"=._o`\"-._        `\"=.______________|___________________\n",
      "            |                `\"=._o`\"=._      _`\"=._                     |\n",
      "    _________|_____________________:=._o \"=._.\"_.-=\"'\"=.__________________|_______\n",
      "    |                   |    __.--\" , ; `\"=._o.\" ,-\"\"\"-._ \".   |\n",
      "    |___________________|_._\"  ,. .` ` `` ,  `\"-._\"-._   \". '__|___________________\n",
      "            |           |o`\"=._` , \"` `; .\". ,  \"-._\"-._; ;              |\n",
      "    _________|___________| ;`-.o`\"=._; .\" ` '`.\"\\` . \"-._ /_______________|_______\n",
      "    |                   | |o;    `\"-.o`\"=._``  '` \" ,__.--o;   |\n",
      "    |___________________|_| ;     (#) `-.o `\"=.`_.--\"_o.-; ;___|___________________\n",
      "    ____/______/______/___|o;._    \"      `\".o|o_.--\"    ;o;____/______/______/____\n",
      "    /______/______/______/_\"=._o--._        ; | ;        ; ;/______/______/______/_\n",
      "    ____/______/______/______/__\"=._o--._   ;o|o;     _._;o;____/______/______/____\n",
      "    /______/______/______/______/____\"=._o._; | ;_.--\"o.--\"_/______/______/______/_\n",
      "    ____/______/______/______/______/_____\"=.o|o_.--\"\"___/______/______/______/____\n",
      "    /______/______/______/______/______/______/______/______/______/______/[TomekK]\n",
      "    *******************************************************************************\n",
      "    \n",
      "Welcome to Treasure Island.\n",
      "Your mission is to find the treasure.\n",
      "Nice choice! You escaped falling off a horrible cliff to your death!\n",
      "Great choice! You see a large body of trout come swimming across the river. Your patience saved your life.\n",
      "You found the treasure!\n",
      "You Win!\n"
     ]
    }
   ],
   "source": [
    "treasure_island()"
   ]
  },
  {
   "cell_type": "code",
   "execution_count": null,
   "metadata": {},
   "outputs": [],
   "source": []
  }
 ],
 "metadata": {
  "kernelspec": {
   "display_name": "Python 3.8.5 ('base')",
   "language": "python",
   "name": "python3"
  },
  "language_info": {
   "codemirror_mode": {
    "name": "ipython",
    "version": 3
   },
   "file_extension": ".py",
   "mimetype": "text/x-python",
   "name": "python",
   "nbconvert_exporter": "python",
   "pygments_lexer": "ipython3",
   "version": "3.8.5"
  },
  "orig_nbformat": 4,
  "vscode": {
   "interpreter": {
    "hash": "cde9e06954608812f36a56132da0251c351f6ad8984d203ba87e4f78021e1e3f"
   }
  }
 },
 "nbformat": 4,
 "nbformat_minor": 2
}
