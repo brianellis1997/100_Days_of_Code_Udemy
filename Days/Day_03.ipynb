{
 "cells": [
  {
   "cell_type": "code",
   "execution_count": 7,
   "metadata": {},
   "outputs": [
    {
     "data": {
      "text/plain": [
       "['h', 'e', 'l', 'l', 'o']"
      ]
     },
     "execution_count": 7,
     "metadata": {},
     "output_type": "execute_result"
    }
   ],
   "source": [
    "w1 = 'true'\n",
    "w2 = 'love'\n",
    "w1 = [i for i in 'hello']\n",
    "w1"
   ]
  },
  {
   "cell_type": "code",
   "execution_count": 10,
   "metadata": {},
   "outputs": [
    {
     "name": "stdout",
     "output_type": "stream",
     "text": [
      "a\n",
      "l\n",
      "e\n",
      "x\n"
     ]
    }
   ],
   "source": [
    "name1 = 'alex'\n",
    "for char in name1.lower():\n",
    "    print (char)"
   ]
  },
  {
   "cell_type": "code",
   "execution_count": 11,
   "metadata": {},
   "outputs": [
    {
     "name": "stdout",
     "output_type": "stream",
     "text": [
      "The Love Calculator is calculating your score...\n",
      "Your score is 11.\n"
     ]
    }
   ],
   "source": [
    "print(\"The Love Calculator is calculating your score...\")\n",
    "name1 = input() # What is your name?\n",
    "name2 = input() # What is their name?\n",
    "# 🚨 Don't change the code above 👆\n",
    "# Write your code below this line 👇\n",
    "true_count = 0\n",
    "love_count = 0\n",
    "\n",
    "w1 = [i for i in 'true']\n",
    "w2 = [i for i in 'love']\n",
    "\n",
    "for char in name1.lower():\n",
    "  if char in w1:\n",
    "    true_count += 1\n",
    "  if char in w2:\n",
    "    love_count += 1\n",
    "\n",
    "for char in name2.lower():\n",
    "  if char in w1:\n",
    "    true_count += 1\n",
    "  if char in w2:\n",
    "    love_count += 1\n",
    "\n",
    "total_count = int(str(true_count) + str(love_count))\n",
    "\n",
    "if total_count < 10 or total_count > 90:\n",
    "  print(f'Your score is {total_count}, you go together like coke and mentos.')\n",
    "elif total_count > 40 and total_count < 50:\n",
    "  print(f'Your score is {total_count}, you are alright together.')\n",
    "else:\n",
    "  print(f'Your score is {total_count}.')"
   ]
  },
  {
   "cell_type": "code",
   "execution_count": null,
   "metadata": {},
   "outputs": [],
   "source": []
  }
 ],
 "metadata": {
  "kernelspec": {
   "display_name": "Python 3.8.5 ('base')",
   "language": "python",
   "name": "python3"
  },
  "language_info": {
   "codemirror_mode": {
    "name": "ipython",
    "version": 3
   },
   "file_extension": ".py",
   "mimetype": "text/x-python",
   "name": "python",
   "nbconvert_exporter": "python",
   "pygments_lexer": "ipython3",
   "version": "3.8.5"
  },
  "orig_nbformat": 4,
  "vscode": {
   "interpreter": {
    "hash": "cde9e06954608812f36a56132da0251c351f6ad8984d203ba87e4f78021e1e3f"
   }
  }
 },
 "nbformat": 4,
 "nbformat_minor": 2
}
