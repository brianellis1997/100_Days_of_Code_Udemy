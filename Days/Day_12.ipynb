{
 "cells": [
  {
   "cell_type": "code",
   "execution_count": 16,
   "metadata": {},
   "outputs": [],
   "source": [
    "import random\n",
    "\n",
    "#Number Guessing Game Objectives:\n",
    "def guess_the_number():\n",
    "    # Include an ASCII art logo.\n",
    "    logo = \"\"\"  ______ _     _ _______ _______ _______      _______ _     _ _______      __   _ _     _ _______ ______  _______  ______   /\n",
    "    |  ____ |     | |______ |______ |______         |    |_____| |______      | \\  | |     | |  |  | |_____] |______ |_____/  / \n",
    "    |_____| |_____| |______ ______| ______|         |    |     | |______      |  \\_| |_____| |  |  | |_____] |______ |    \\_ .  \n",
    "                                                                                                                                \"\"\"\n",
    "    # Allow the player to submit a guess for a number between 1 and 100.\n",
    "    print(logo)\n",
    "    number = random.randint(1, 100)\n",
    "    print(\"Welcome to the number guessing game!\")\n",
    "    difficulty = input(\"What difficulty would you like to play? easy or hard?: \").lower()\n",
    "    while True:\n",
    "        if difficulty[0] == 'e':\n",
    "            lives = 10\n",
    "            break\n",
    "        elif difficulty[0] == 'h':\n",
    "            lives = 5\n",
    "            break\n",
    "        else:\n",
    "            difficulty = input(\"You didn't enter a proper response, please type 'easy' or 'hard'. \").lower()\n",
    "\n",
    "    print(f\"You have {lives} tries to guess the correct number.\")\n",
    "    while lives > 0:\n",
    "        user_guess = int(input(\"Guess a number between 1 and 100.: \"))\n",
    "        if user_guess < number:\n",
    "            print(\"Too low.\")\n",
    "            lives -= 1\n",
    "            print(f\"You have {lives} tries remaining.\")\n",
    "        elif user_guess > number:\n",
    "            print(\"Too high.\")\n",
    "            lives -= 1\n",
    "            print(f\"You have {lives} tries remaining.\")\n",
    "        else:\n",
    "            print(f\"Yes! You guessed right, the number was {number}.\")\n",
    "            break\n",
    "    if lives == 0:\n",
    "        print(f\"Sorry, you lost! The number was {number}.\")\n",
    "    play_again = input(\"Would you like to play again? Type 'yes' or 'no': \").lower()\n",
    "    if play_again[0] == 'y':\n",
    "        return guess_the_number()\n",
    "    else:\n",
    "        return\n",
    "    \n",
    "# Check user's guess against actual answer. Print \"Too high.\" or \"Too low.\" depending on the user's answer. \n",
    "# If they got the answer correct, show the actual answer to the player.\n",
    "# Track the number of turns remaining.\n",
    "# If they run out of turns, provide feedback to the player. \n",
    "# Include two different difficulty levels (e.g., 10 guesses in easy mode, only 5 guesses in hard mode)."
   ]
  },
  {
   "cell_type": "code",
   "execution_count": 17,
   "metadata": {},
   "outputs": [
    {
     "name": "stdout",
     "output_type": "stream",
     "text": [
      "  ______ _     _ _______ _______ _______      _______ _     _ _______      __   _ _     _ _______ ______  _______  ______   /\n",
      "    |  ____ |     | |______ |______ |______         |    |_____| |______      | \\  | |     | |  |  | |_____] |______ |_____/  / \n",
      "    |_____| |_____| |______ ______| ______|         |    |     | |______      |  \\_| |_____| |  |  | |_____] |______ |    \\_ .  \n",
      "                                                                                                                                \n",
      "Welcome to the number guessing game!\n",
      "You have 5 tries to guess the correct number.\n",
      "Too high.\n",
      "You have 4 tries remaining.\n",
      "Yes! You guessed right, the number was 25.\n",
      "  ______ _     _ _______ _______ _______      _______ _     _ _______      __   _ _     _ _______ ______  _______  ______   /\n",
      "    |  ____ |     | |______ |______ |______         |    |_____| |______      | \\  | |     | |  |  | |_____] |______ |_____/  / \n",
      "    |_____| |_____| |______ ______| ______|         |    |     | |______      |  \\_| |_____| |  |  | |_____] |______ |    \\_ .  \n",
      "                                                                                                                                \n",
      "Welcome to the number guessing game!\n",
      "You have 5 tries to guess the correct number.\n",
      "Too low.\n",
      "You have 4 tries remaining.\n",
      "Too low.\n",
      "You have 3 tries remaining.\n",
      "Too low.\n",
      "You have 2 tries remaining.\n",
      "Too high.\n",
      "You have 1 tries remaining.\n",
      "Yes! You guessed right, the number was 90.\n"
     ]
    }
   ],
   "source": [
    "guess_the_number()"
   ]
  },
  {
   "cell_type": "code",
   "execution_count": null,
   "metadata": {},
   "outputs": [],
   "source": []
  }
 ],
 "metadata": {
  "kernelspec": {
   "display_name": "Python 3.8.5 ('base')",
   "language": "python",
   "name": "python3"
  },
  "language_info": {
   "codemirror_mode": {
    "name": "ipython",
    "version": 3
   },
   "file_extension": ".py",
   "mimetype": "text/x-python",
   "name": "python",
   "nbconvert_exporter": "python",
   "pygments_lexer": "ipython3",
   "version": "3.8.5"
  },
  "orig_nbformat": 4,
  "vscode": {
   "interpreter": {
    "hash": "cde9e06954608812f36a56132da0251c351f6ad8984d203ba87e4f78021e1e3f"
   }
  }
 },
 "nbformat": 4,
 "nbformat_minor": 2
}
