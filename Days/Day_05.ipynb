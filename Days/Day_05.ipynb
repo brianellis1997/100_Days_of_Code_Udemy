{
 "cells": [
  {
   "cell_type": "code",
   "execution_count": 6,
   "metadata": {},
   "outputs": [
    {
     "name": "stdout",
     "output_type": "stream",
     "text": [
      "Welcome to the PyPassword Generator!\n",
      "Your generated password is nlwhyECo*+&#)462731\n"
     ]
    }
   ],
   "source": [
    "#Password Generator Project\n",
    "import random\n",
    "letters = ['a', 'b', 'c', 'd', 'e', 'f', 'g', 'h', 'i', 'j', 'k', 'l', 'm', 'n', 'o', 'p', 'q', 'r', 's', 't', 'u', 'v', 'w', 'x', 'y', 'z', 'A', 'B', 'C', 'D', 'E', 'F', 'G', 'H', 'I', 'J', 'K', 'L', 'M', 'N', 'O', 'P', 'Q', 'R', 'S', 'T', 'U', 'V', 'W', 'X', 'Y', 'Z']\n",
    "numbers = ['0', '1', '2', '3', '4', '5', '6', '7', '8', '9']\n",
    "symbols = ['!', '#', '$', '%', '&', '(', ')', '*', '+']\n",
    "\n",
    "print(\"Welcome to the PyPassword Generator!\")\n",
    "nr_letters= int(input(\"How many letters would you like in your password?\\n\")) \n",
    "nr_symbols = int(input(f\"How many symbols would you like?\\n\"))\n",
    "nr_numbers = int(input(f\"How many numbers would you like?\\n\"))\n",
    "\n",
    "#Eazy Level - Order not randomised:\n",
    "#e.g. 4 letter, 2 symbol, 2 number = JduE&!91\n",
    "\n",
    "# Letters\n",
    "# password = ''\n",
    "# for i in range(nr_letters):\n",
    "#     rand_letter = letters[random.randint(0, len(letters)-1)]\n",
    "#     password += rand_letter\n",
    "\n",
    "# # Symbols\n",
    "# for i in range(nr_symbols):\n",
    "#     rand_symbol = symbols[random.randint(0, len(symbols)-1)]\n",
    "#     password += rand_symbol\n",
    "\n",
    "# # Numbers\n",
    "# for i in range(nr_numbers):\n",
    "#     rand_num = numbers[random.randint(0, len(numbers)-1)]\n",
    "#     password += rand_num\n",
    "\n",
    "# print(f'Your generated password is {password}')\n",
    "\n",
    "#Hard Level - Order of characters randomised:\n",
    "#e.g. 4 letter, 2 symbol, 2 number = g^2jk8&P\n",
    "# Letters\n",
    "diff_password = []\n",
    "for i in range(nr_letters):\n",
    "    rand_letter = letters[random.randint(0, len(letters)-1)]\n",
    "    diff_password.append( rand_letter )\n",
    "\n",
    "# Symbols\n",
    "for i in range(nr_symbols):\n",
    "    rand_symbol = symbols[random.randint(0, len(symbols)-1)]\n",
    "    diff_password.append( rand_symbol )\n",
    "\n",
    "# Numbers\n",
    "for i in range(nr_numbers):\n",
    "    rand_num = numbers[random.randint(0, len(numbers)-1)]\n",
    "    diff_password.append( rand_num )\n",
    "\n",
    "\n",
    "\n",
    "print(f'Your generated password is {diff_password}')"
   ]
  },
  {
   "cell_type": "code",
   "execution_count": null,
   "metadata": {},
   "outputs": [],
   "source": []
  }
 ],
 "metadata": {
  "kernelspec": {
   "display_name": "Python 3.8.5 ('base')",
   "language": "python",
   "name": "python3"
  },
  "language_info": {
   "codemirror_mode": {
    "name": "ipython",
    "version": 3
   },
   "file_extension": ".py",
   "mimetype": "text/x-python",
   "name": "python",
   "nbconvert_exporter": "python",
   "pygments_lexer": "ipython3",
   "version": "3.8.5"
  },
  "orig_nbformat": 4,
  "vscode": {
   "interpreter": {
    "hash": "cde9e06954608812f36a56132da0251c351f6ad8984d203ba87e4f78021e1e3f"
   }
  }
 },
 "nbformat": 4,
 "nbformat_minor": 2
}
