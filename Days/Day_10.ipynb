{
 "cells": [
  {
   "cell_type": "code",
   "execution_count": 7,
   "metadata": {},
   "outputs": [],
   "source": [
    "# Define function to return name with first letters capitalized\n",
    "def format_name(f_name, l_name):\n",
    "    f_name = f_name.lower()\n",
    "    f_name = [i for i in f_name]\n",
    "    f_name[0] = f_name[0].upper()\n",
    "    new_f_name = ''\n",
    "    for i in f_name:\n",
    "        new_f_name += i\n",
    "    \n",
    "    \n",
    "\n",
    "    l_name = l_name.lower()\n",
    "    l_name = [ i for i in l_name]\n",
    "    l_name[0] = l_name[0].upper()\n",
    "    new_l_name = ''\n",
    "    for i in l_name:\n",
    "        new_l_name += i\n",
    "    \n",
    "\n",
    "    return new_f_name + ' ' + new_l_name"
   ]
  },
  {
   "cell_type": "code",
   "execution_count": 8,
   "metadata": {},
   "outputs": [
    {
     "data": {
      "text/plain": [
       "'Brian Ellis'"
      ]
     },
     "execution_count": 8,
     "metadata": {},
     "output_type": "execute_result"
    }
   ],
   "source": [
    "format_name('BRIAN', 'ELLIS')"
   ]
  },
  {
   "cell_type": "code",
   "execution_count": 9,
   "metadata": {},
   "outputs": [
    {
     "data": {
      "text/plain": [
       "'Brian Ellis'"
      ]
     },
     "execution_count": 9,
     "metadata": {},
     "output_type": "execute_result"
    }
   ],
   "source": [
    "format_name('bRiAn', 'eLLiS')"
   ]
  },
  {
   "cell_type": "code",
   "execution_count": null,
   "metadata": {},
   "outputs": [],
   "source": []
  }
 ],
 "metadata": {
  "kernelspec": {
   "display_name": "Python 3.8.5 ('base')",
   "language": "python",
   "name": "python3"
  },
  "language_info": {
   "codemirror_mode": {
    "name": "ipython",
    "version": 3
   },
   "file_extension": ".py",
   "mimetype": "text/x-python",
   "name": "python",
   "nbconvert_exporter": "python",
   "pygments_lexer": "ipython3",
   "version": "3.8.5"
  },
  "orig_nbformat": 4,
  "vscode": {
   "interpreter": {
    "hash": "cde9e06954608812f36a56132da0251c351f6ad8984d203ba87e4f78021e1e3f"
   }
  }
 },
 "nbformat": 4,
 "nbformat_minor": 2
}
