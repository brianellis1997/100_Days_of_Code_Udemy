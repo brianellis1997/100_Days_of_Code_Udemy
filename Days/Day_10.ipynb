{
 "cells": [
  {
   "cell_type": "code",
   "execution_count": 7,
   "metadata": {},
   "outputs": [],
   "source": [
    "# Define function to return name with first letters capitalized\n",
    "def format_name(f_name, l_name):\n",
    "    f_name = f_name.lower()\n",
    "    f_name = [i for i in f_name]\n",
    "    f_name[0] = f_name[0].upper()\n",
    "    new_f_name = ''\n",
    "    for i in f_name:\n",
    "        new_f_name += i\n",
    "    \n",
    "    \n",
    "\n",
    "    l_name = l_name.lower()\n",
    "    l_name = [ i for i in l_name]\n",
    "    l_name[0] = l_name[0].upper()\n",
    "    new_l_name = ''\n",
    "    for i in l_name:\n",
    "        new_l_name += i\n",
    "    \n",
    "\n",
    "    return new_f_name + ' ' + new_l_name"
   ]
  },
  {
   "cell_type": "code",
   "execution_count": 8,
   "metadata": {},
   "outputs": [
    {
     "data": {
      "text/plain": [
       "'Brian Ellis'"
      ]
     },
     "execution_count": 8,
     "metadata": {},
     "output_type": "execute_result"
    }
   ],
   "source": [
    "format_name('BRIAN', 'ELLIS')"
   ]
  },
  {
   "cell_type": "code",
   "execution_count": 9,
   "metadata": {},
   "outputs": [
    {
     "data": {
      "text/plain": [
       "'Brian Ellis'"
      ]
     },
     "execution_count": 9,
     "metadata": {},
     "output_type": "execute_result"
    }
   ],
   "source": [
    "format_name('bRiAn', 'eLLiS')"
   ]
  },
  {
   "cell_type": "code",
   "execution_count": 21,
   "metadata": {},
   "outputs": [],
   "source": [
    "# Calculator\n",
    "\n",
    "def add(n1, n2):\n",
    "    return n1 + n2\n",
    "\n",
    "def subtract(n1, n2):\n",
    "    return n1 - n2\n",
    "\n",
    "def multiply(n1, n2):\n",
    "    return n1 * n2\n",
    "\n",
    "def divide(n1, n2):\n",
    "    if n2 == 0:\n",
    "        raise ZeroDivisionError('You cannot divide by zero. Please try again!')\n",
    "    else:\n",
    "        return n1 / n2\n",
    "\n",
    "\n",
    "    "
   ]
  },
  {
   "cell_type": "code",
   "execution_count": 11,
   "metadata": {},
   "outputs": [
    {
     "data": {
      "text/plain": [
       "7"
      ]
     },
     "execution_count": 11,
     "metadata": {},
     "output_type": "execute_result"
    }
   ],
   "source": [
    "add(2, 5)"
   ]
  },
  {
   "cell_type": "code",
   "execution_count": 12,
   "metadata": {},
   "outputs": [
    {
     "data": {
      "text/plain": [
       "0.25"
      ]
     },
     "execution_count": 12,
     "metadata": {},
     "output_type": "execute_result"
    }
   ],
   "source": [
    "divide(1,4)"
   ]
  },
  {
   "cell_type": "code",
   "execution_count": 22,
   "metadata": {},
   "outputs": [
    {
     "ename": "ZeroDivisionError",
     "evalue": "You cannot divide by zero. Please try again!",
     "output_type": "error",
     "traceback": [
      "\u001b[0;31m---------------------------------------------------------------------------\u001b[0m",
      "\u001b[0;31mZeroDivisionError\u001b[0m                         Traceback (most recent call last)",
      "\u001b[0;32m<ipython-input-22-b4d7e8b388b7>\u001b[0m in \u001b[0;36m<module>\u001b[0;34m\u001b[0m\n\u001b[0;32m----> 1\u001b[0;31m \u001b[0mdivide\u001b[0m\u001b[0;34m(\u001b[0m\u001b[0;36m1\u001b[0m\u001b[0;34m,\u001b[0m \u001b[0;36m0\u001b[0m\u001b[0;34m)\u001b[0m\u001b[0;34m\u001b[0m\u001b[0;34m\u001b[0m\u001b[0m\n\u001b[0m",
      "\u001b[0;32m<ipython-input-21-c3018fde76e8>\u001b[0m in \u001b[0;36mdivide\u001b[0;34m(n1, n2)\u001b[0m\n\u001b[1;32m     12\u001b[0m \u001b[0;32mdef\u001b[0m \u001b[0mdivide\u001b[0m\u001b[0;34m(\u001b[0m\u001b[0mn1\u001b[0m\u001b[0;34m,\u001b[0m \u001b[0mn2\u001b[0m\u001b[0;34m)\u001b[0m\u001b[0;34m:\u001b[0m\u001b[0;34m\u001b[0m\u001b[0;34m\u001b[0m\u001b[0m\n\u001b[1;32m     13\u001b[0m     \u001b[0;32mif\u001b[0m \u001b[0mn2\u001b[0m \u001b[0;34m==\u001b[0m \u001b[0;36m0\u001b[0m\u001b[0;34m:\u001b[0m\u001b[0;34m\u001b[0m\u001b[0;34m\u001b[0m\u001b[0m\n\u001b[0;32m---> 14\u001b[0;31m         \u001b[0;32mraise\u001b[0m \u001b[0mZeroDivisionError\u001b[0m\u001b[0;34m(\u001b[0m\u001b[0;34m'You cannot divide by zero. Please try again!'\u001b[0m\u001b[0;34m)\u001b[0m\u001b[0;34m\u001b[0m\u001b[0;34m\u001b[0m\u001b[0m\n\u001b[0m\u001b[1;32m     15\u001b[0m     \u001b[0;32melse\u001b[0m\u001b[0;34m:\u001b[0m\u001b[0;34m\u001b[0m\u001b[0;34m\u001b[0m\u001b[0m\n\u001b[1;32m     16\u001b[0m         \u001b[0;32mreturn\u001b[0m \u001b[0mn1\u001b[0m \u001b[0;34m/\u001b[0m \u001b[0mn2\u001b[0m\u001b[0;34m\u001b[0m\u001b[0;34m\u001b[0m\u001b[0m\n",
      "\u001b[0;31mZeroDivisionError\u001b[0m: You cannot divide by zero. Please try again!"
     ]
    }
   ],
   "source": [
    "# divide(1, 0)"
   ]
  },
  {
   "cell_type": "code",
   "execution_count": 24,
   "metadata": {},
   "outputs": [],
   "source": [
    "operations = {\n",
    "    '+': add,\n",
    "    '-': subtract,\n",
    "    '*': multiply,\n",
    "    '/': divide\n",
    "}"
   ]
  },
  {
   "cell_type": "code",
   "execution_count": 38,
   "metadata": {},
   "outputs": [],
   "source": [
    "def calculator():\n",
    "    print('*'*75)\n",
    "    print(\"\\nHello, I am a calculator! How may I assist you?\")\n",
    "    print()\n",
    "    print('*'*75)\n",
    "\n",
    "    num1 = int(input(\"What's the first number?: \"))\n",
    "\n",
    "    for key in operations:\n",
    "        print(key)\n",
    "\n",
    "    operation_symbol = input(\"Pick an operation from the line above: \")\n",
    "\n",
    "    num2 = int(input(\"What's the second number?: \"))\n",
    "\n",
    "    ans = operations[operation_symbol](num1, num2)\n",
    "    print(f\"{num1} {operation_symbol} {num2} = {ans}\")\n",
    "\n",
    "    cont = input(f\"Type 'y' to continue calculating with {ans}, or type 'n' to start a new calculation.: \").lower()\n",
    "    old_ans = ans\n",
    "    while cont == 'y':\n",
    "        new_op = input(\"Pick an operation: \")\n",
    "        new_num = int(input(\"What's the next number?: \"))\n",
    "\n",
    "        ans = operations[new_op](old_ans, new_num)\n",
    "        print(f\"{old_ans} {new_op} {new_num} = {ans}\")\n",
    "        \n",
    "        old_ans = ans\n",
    "\n",
    "        cont = input(f\"Type 'y' to continue calculating with {ans}, or type 'n' to exit.: \").lower()\n",
    "    if cont == 'n':\n",
    "        return calculator()\n",
    "    return"
   ]
  },
  {
   "cell_type": "code",
   "execution_count": 39,
   "metadata": {},
   "outputs": [
    {
     "name": "stdout",
     "output_type": "stream",
     "text": [
      "***************************************************************************\n",
      "\n",
      "Hello, I am a calculator! How may I assist you?\n",
      "\n",
      "***************************************************************************\n",
      "+\n",
      "-\n",
      "*\n",
      "/\n",
      "5 - 2 = 3\n",
      "3 * 22 = 66\n",
      "66 / 42 = 1.5714285714285714\n",
      "***************************************************************************\n",
      "\n",
      "Hello, I am a calculator! How may I assist you?\n",
      "\n",
      "***************************************************************************\n",
      "+\n",
      "-\n",
      "*\n",
      "/\n",
      "2 + 2 = 4\n"
     ]
    }
   ],
   "source": [
    "calculator()"
   ]
  },
  {
   "cell_type": "code",
   "execution_count": null,
   "metadata": {},
   "outputs": [],
   "source": []
  }
 ],
 "metadata": {
  "kernelspec": {
   "display_name": "Python 3.8.5 ('base')",
   "language": "python",
   "name": "python3"
  },
  "language_info": {
   "codemirror_mode": {
    "name": "ipython",
    "version": 3
   },
   "file_extension": ".py",
   "mimetype": "text/x-python",
   "name": "python",
   "nbconvert_exporter": "python",
   "pygments_lexer": "ipython3",
   "version": "3.8.5"
  },
  "orig_nbformat": 4,
  "vscode": {
   "interpreter": {
    "hash": "cde9e06954608812f36a56132da0251c351f6ad8984d203ba87e4f78021e1e3f"
   }
  }
 },
 "nbformat": 4,
 "nbformat_minor": 2
}
