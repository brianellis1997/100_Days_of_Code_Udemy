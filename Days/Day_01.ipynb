{
 "cells": [
  {
   "cell_type": "code",
   "execution_count": 2,
   "metadata": {},
   "outputs": [
    {
     "name": "stdout",
     "output_type": "stream",
     "text": [
      "Hello world!\n",
      "Hello world!\n",
      "Hello world!\n",
      "\n"
     ]
    }
   ],
   "source": [
    "print('Hello world!\\n' * 3)"
   ]
  },
  {
   "cell_type": "code",
   "execution_count": 6,
   "metadata": {},
   "outputs": [
    {
     "name": "stdout",
     "output_type": "stream",
     "text": [
      "Hello Brian!\n"
     ]
    }
   ],
   "source": [
    "print(\"Hello \" + input(\"What is your name?\") + \"!\")"
   ]
  },
  {
   "cell_type": "code",
   "execution_count": 11,
   "metadata": {},
   "outputs": [],
   "source": [
    "#1. Create a greeting for program\n",
    "def band_name_generator():\n",
    "    print(\"Welcome to the Band Name Generator\")\n",
    "    print(\"What city did you grow up in?\")\n",
    "    user_city = input()\n",
    "    print(\"What is the name of your pet?\")\n",
    "    user_pet = input()\n",
    "    band_name = user_city + \" \" + user_pet\n",
    "    return \"Your band name could be \" + band_name\n"
   ]
  },
  {
   "cell_type": "code",
   "execution_count": 12,
   "metadata": {},
   "outputs": [
    {
     "name": "stdout",
     "output_type": "stream",
     "text": [
      "Welcome to the Band Name Generator\n",
      "What city did you grow up in?\n",
      "What is the name of your pet?\n"
     ]
    },
    {
     "data": {
      "text/plain": [
       "'Your band name could be kansas idiot'"
      ]
     },
     "execution_count": 12,
     "metadata": {},
     "output_type": "execute_result"
    }
   ],
   "source": [
    "band_name_generator()"
   ]
  }
 ],
 "metadata": {
  "kernelspec": {
   "display_name": "Python 3.8.5 ('base')",
   "language": "python",
   "name": "python3"
  },
  "language_info": {
   "codemirror_mode": {
    "name": "ipython",
    "version": 3
   },
   "file_extension": ".py",
   "mimetype": "text/x-python",
   "name": "python",
   "nbconvert_exporter": "python",
   "pygments_lexer": "ipython3",
   "version": "3.8.5"
  },
  "orig_nbformat": 4,
  "vscode": {
   "interpreter": {
    "hash": "cde9e06954608812f36a56132da0251c351f6ad8984d203ba87e4f78021e1e3f"
   }
  }
 },
 "nbformat": 4,
 "nbformat_minor": 2
}
