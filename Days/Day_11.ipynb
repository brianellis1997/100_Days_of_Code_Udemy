{
 "cells": [
  {
   "cell_type": "code",
   "execution_count": 12,
   "metadata": {},
   "outputs": [],
   "source": [
    "############### Blackjack Project #####################\n",
    "\n",
    "#Difficulty Normal 😎: Use all Hints below to complete the project.\n",
    "#Difficulty Hard 🤔: Use only Hints 1, 2, 3 to complete the project.\n",
    "#Difficulty Extra Hard 😭: Only use Hints 1 & 2 to complete the project.\n",
    "#Difficulty Expert 🤯: Only use Hint 1 to complete the project.\n",
    "\n",
    "############### Our Blackjack House Rules #####################\n",
    "\n",
    "## The deck is unlimited in size. \n",
    "## There are no jokers. \n",
    "## The Jack/Queen/King all count as 10.\n",
    "## The the Ace can count as 11 or 1.\n",
    "## Use the following list as the deck of cards:\n",
    "## cards = [11, 2, 3, 4, 5, 6, 7, 8, 9, 10, 10, 10, 10]\n",
    "## The cards in the list have equal probability of being drawn.\n",
    "## Cards are not removed from the deck as they are drawn.\n",
    "## The computer is the dealer.\n",
    "\n",
    "##################### Hints #####################\n",
    "\n",
    "import numpy as np\n",
    "import random\n"
   ]
  },
  {
   "cell_type": "code",
   "execution_count": 2,
   "metadata": {},
   "outputs": [],
   "source": [
    "cards = [11, 2, 3, 4, 5, 6, 7, 8, 9, 10, 10, 10, 10] # 11 is ace in which it can turn to 1 if user's hand exceeds 21 initially"
   ]
  },
  {
   "cell_type": "code",
   "execution_count": 15,
   "metadata": {},
   "outputs": [],
   "source": [
    "users_cards = [random.choice(cards)]\n",
    "users_cards.append(random.choice(cards))\n",
    "computer_cards = [random.choice(cards)]\n",
    "\n",
    "def blackjack():\n",
    "    print(f\"Your cards: {users_cards}, current score: {np.sum(users_cards)}\")\n",
    "    print(f\"Computers first card: {computer_cards}\")\n",
    "    while np.sum(users_cards) < 21:\n",
    "        hit_choice = input(\"Type 'y' to get another card, type 'n' to pass: \").lower()\n",
    "        if hit_choice[0] == 'y':\n",
    "            users_cards.append(random.choice(cards))\n",
    "            if np.sum(users_cards) > 21 and users_cards[-1] == 11:\n",
    "                users_cards[-1] = 1\n",
    "            print(f\"Your cards: {users_cards}, current score: {np.sum(users_cards)}\")\n",
    "            print(f\"Computers first card: {computer_cards}\")\n",
    "        elif hit_choice[0] == 'n':\n",
    "            break\n",
    "    print(f\"Your final hand: {users_cards}, final score: {np.sum(users_cards)}\")\n",
    "    while np.sum(computer_cards) < 17:\n",
    "        computer_cards.append(random.choice(cards))\n",
    "        if np.sum(computer_cards) > 21 and computer_cards[-1] == 11:\n",
    "            computer_cards[-1] = 1\n",
    "        print(f\"Computers cards: {computer_cards}, current score: {np.sum(computer_cards)}\")\n",
    "\n",
    "    print(f\"Computers final hand: {computer_cards}, final score: {np.sum(computer_cards)}\")\n",
    "\n",
    "    if np.sum(users_cards) > 21 and np.sum(computer_cards) > 21:\n",
    "        print(\"You both went over. Draw.\")\n",
    "    elif np.sum(users_cards) > 21:\n",
    "        print(\"You went over. You lose.\")\n",
    "    elif np.sum(computer_cards) > 21:\n",
    "        print(\"The computer went over. You won!\")\n",
    "    elif np.sum(users_cards) > np.sum(computer_cards):\n",
    "        print(\"You have the higher score. You won!\")\n",
    "    elif np.sum(computer_cards) > np.sum(users_cards):\n",
    "        print(\"The computer has the higher score. You lost.\")\n",
    "    else:\n",
    "        print(\"You both have the same amount. Draw.\")   \n"
   ]
  },
  {
   "cell_type": "code",
   "execution_count": 16,
   "metadata": {},
   "outputs": [
    {
     "name": "stdout",
     "output_type": "stream",
     "text": [
      "Your cards: [8, 2], current score: 10\n",
      "Computers first card: [4]\n",
      "Your cards: [8, 2, 4], current score: 14\n",
      "Computers first card: [4]\n",
      "Your cards: [8, 2, 4, 10], current score: 24\n",
      "Computers first card: [4]\n",
      "Your final hand: [8, 2, 4, 10], final score: 24\n",
      "Computers cards: [4, 6], current score: 10\n",
      "Computers cards: [4, 6, 7], current score: 17\n",
      "Computers final hand: [4, 6, 7], final score: 17\n",
      "You went over. You lose.\n"
     ]
    }
   ],
   "source": [
    "blackjack()"
   ]
  },
  {
   "cell_type": "code",
   "execution_count": null,
   "metadata": {},
   "outputs": [],
   "source": []
  }
 ],
 "metadata": {
  "kernelspec": {
   "display_name": "Python 3.8.5 ('base')",
   "language": "python",
   "name": "python3"
  },
  "language_info": {
   "codemirror_mode": {
    "name": "ipython",
    "version": 3
   },
   "file_extension": ".py",
   "mimetype": "text/x-python",
   "name": "python",
   "nbconvert_exporter": "python",
   "pygments_lexer": "ipython3",
   "version": "3.8.5"
  },
  "orig_nbformat": 4,
  "vscode": {
   "interpreter": {
    "hash": "cde9e06954608812f36a56132da0251c351f6ad8984d203ba87e4f78021e1e3f"
   }
  }
 },
 "nbformat": 4,
 "nbformat_minor": 2
}
