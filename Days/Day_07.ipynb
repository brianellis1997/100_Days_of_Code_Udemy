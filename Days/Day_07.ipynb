{
 "cells": [
  {
   "cell_type": "code",
   "execution_count": 2,
   "metadata": {},
   "outputs": [],
   "source": [
    "import random"
   ]
  },
  {
   "cell_type": "code",
   "execution_count": 2,
   "metadata": {},
   "outputs": [],
   "source": [
    "word_list = ['ardvark', 'baboon', 'camel']"
   ]
  },
  {
   "cell_type": "code",
   "execution_count": 11,
   "metadata": {},
   "outputs": [
    {
     "data": {
      "text/plain": [
       "'baboon'"
      ]
     },
     "execution_count": 11,
     "metadata": {},
     "output_type": "execute_result"
    }
   ],
   "source": [
    "# Randomly choose a word from the list\n",
    "chosen_word = random.choice(word_list)\n",
    "chosen_word"
   ]
  },
  {
   "cell_type": "code",
   "execution_count": 16,
   "metadata": {},
   "outputs": [],
   "source": [
    "# Ask user to guess letter and assign answer\n",
    "guess = input(\"Please guess a letter.\").lower() # 'O'"
   ]
  },
  {
   "cell_type": "code",
   "execution_count": 17,
   "metadata": {},
   "outputs": [
    {
     "name": "stdout",
     "output_type": "stream",
     "text": [
      "False\n",
      "False\n",
      "False\n",
      "True\n",
      "True\n",
      "False\n"
     ]
    }
   ],
   "source": [
    "# Check if letter guessed is one of letters in chosen word\n",
    "for i in range(len(chosen_word)):\n",
    "    print(guess == chosen_word[i])"
   ]
  },
  {
   "cell_type": "code",
   "execution_count": 18,
   "metadata": {},
   "outputs": [
    {
     "data": {
      "text/plain": [
       "['_', '_', '_', '_', '_', '_']"
      ]
     },
     "execution_count": 18,
     "metadata": {},
     "output_type": "execute_result"
    }
   ],
   "source": [
    "# Step 2\n",
    "# For each letter in chosen_word, add underscore to display\n",
    "display = ['_'] * len(chosen_word)\n",
    "display"
   ]
  },
  {
   "cell_type": "code",
   "execution_count": 19,
   "metadata": {},
   "outputs": [
    {
     "data": {
      "text/plain": [
       "['_', '_', '_', 'o', 'o', '_']"
      ]
     },
     "execution_count": 19,
     "metadata": {},
     "output_type": "execute_result"
    }
   ],
   "source": [
    "# Loop through each position in chosen word, reveal letter in display if match\n",
    "for i in range(len(chosen_word)):\n",
    "    if guess == chosen_word[i]:\n",
    "        display[i] = guess\n",
    "\n",
    "display"
   ]
  },
  {
   "cell_type": "code",
   "execution_count": 24,
   "metadata": {},
   "outputs": [
    {
     "name": "stdout",
     "output_type": "stream",
     "text": [
      "Psst, the chosen word is camel\n"
     ]
    },
    {
     "data": {
      "text/plain": [
       "['_', 'a', '_', '_', '_']"
      ]
     },
     "execution_count": 24,
     "metadata": {},
     "output_type": "execute_result"
    }
   ],
   "source": [
    "# End of step 2\n",
    "word_list = ['ardvark', 'baboon', 'camel']\n",
    "chosen_word = random.choice(word_list)\n",
    "# Ask user to guess letter and assign answer\n",
    "guess = input(\"Please guess a letter.\").lower()\n",
    "display = ['_'] * len(chosen_word)\n",
    "\n",
    "# Testing purposes\n",
    "print(f'Psst, the chosen word is {chosen_word}')\n",
    "# Loop through each position in chosen word, reveal letter in display if match\n",
    "for i in range(len(chosen_word)):\n",
    "    if guess == chosen_word[i]:\n",
    "        display[i] = guess\n",
    "\n",
    "display"
   ]
  },
  {
   "cell_type": "code",
   "execution_count": 5,
   "metadata": {},
   "outputs": [
    {
     "name": "stdout",
     "output_type": "stream",
     "text": [
      "['_', '_', '_', '_', '_', '_']\n",
      "['b', '_', 'b', '_', '_', '_']\n",
      "['b', 'a', 'b', '_', '_', '_']\n",
      "['b', 'a', 'b', 'o', 'o', '_']\n",
      "['b', 'a', 'b', 'o', 'o', 'n']\n"
     ]
    }
   ],
   "source": [
    "# Challenge 3\n",
    "# While loop to let user guess until game won\n",
    "word_list = ['ardvark', 'baboon', 'camel']\n",
    "chosen_word = random.choice(word_list)\n",
    "display = ['_'] * len(chosen_word)\n",
    "\n",
    "while '_' in display:\n",
    "    guess = input(\"Please guess a letter.\").lower()\n",
    "    for i in range(len(chosen_word)):\n",
    "        if guess == chosen_word[i]:\n",
    "            display[i] = guess\n",
    "    print(display)\n"
   ]
  },
  {
   "cell_type": "code",
   "execution_count": 11,
   "metadata": {},
   "outputs": [
    {
     "name": "stdout",
     "output_type": "stream",
     "text": [
      "['_', 'a', '_', '_', '_', '_']\n",
      "\n",
      "  +---+\n",
      "  |   |\n",
      "      |\n",
      "      |\n",
      "      |\n",
      "      |\n",
      "=========\n",
      "\n",
      "['_', 'a', '_', '_', '_', '_']\n",
      "\n",
      "  +---+\n",
      "  |   |\n",
      "  O   |\n",
      "      |\n",
      "      |\n",
      "      |\n",
      "=========\n",
      "\n",
      "['_', 'a', '_', '_', '_', '_']\n",
      "\n",
      "  +---+\n",
      "  |   |\n",
      "  O   |\n",
      "  |   |\n",
      "      |\n",
      "      |\n",
      "=========\n",
      "\n",
      "['_', 'a', '_', '_', '_', '_']\n",
      "\n",
      "  +---+\n",
      "  |   |\n",
      "  O   |\n",
      " /|   |\n",
      "      |\n",
      "      |\n",
      "=========\n",
      "['_', 'a', '_', '_', '_', '_']\n",
      "\n",
      "  +---+\n",
      "  |   |\n",
      "  O   |\n",
      " /|\\  |\n",
      "      |\n",
      "      |\n",
      "=========\n",
      "\n",
      "['_', 'a', '_', '_', '_', '_']\n",
      "\n",
      "  +---+\n",
      "  |   |\n",
      "  O   |\n",
      " /|\\  |\n",
      " /    |\n",
      "      |\n",
      "=========\n",
      "\n",
      "You lost!\n"
     ]
    }
   ],
   "source": [
    "# Challenge 4\n",
    "stages = ['''\n",
    "  +---+\n",
    "  |   |\n",
    "  O   |\n",
    " /|\\  |\n",
    " / \\  |\n",
    "      |\n",
    "=========\n",
    "''', '''\n",
    "  +---+\n",
    "  |   |\n",
    "  O   |\n",
    " /|\\  |\n",
    " /    |\n",
    "      |\n",
    "=========\n",
    "''', '''\n",
    "  +---+\n",
    "  |   |\n",
    "  O   |\n",
    " /|\\  |\n",
    "      |\n",
    "      |\n",
    "=========\n",
    "''', '''\n",
    "  +---+\n",
    "  |   |\n",
    "  O   |\n",
    " /|   |\n",
    "      |\n",
    "      |\n",
    "=========''', '''\n",
    "  +---+\n",
    "  |   |\n",
    "  O   |\n",
    "  |   |\n",
    "      |\n",
    "      |\n",
    "=========\n",
    "''', '''\n",
    "  +---+\n",
    "  |   |\n",
    "  O   |\n",
    "      |\n",
    "      |\n",
    "      |\n",
    "=========\n",
    "''', '''\n",
    "  +---+\n",
    "  |   |\n",
    "      |\n",
    "      |\n",
    "      |\n",
    "      |\n",
    "=========\n",
    "''']\n",
    "\n",
    "lives = 6\n",
    "# If guess is not a letter, reduce lives by 1\n",
    "word_list = ['ardvark', 'baboon', 'camel']\n",
    "chosen_word = random.choice(word_list)\n",
    "display = ['_'] * len(chosen_word)\n",
    "\n",
    "while '_' in display:\n",
    "    if lives > 0:\n",
    "        guess = input(\"Please guess a letter.\").lower()\n",
    "        for i in range(len(chosen_word)):\n",
    "            if guess == chosen_word[i]:\n",
    "                display[i] = guess\n",
    "        if guess not in chosen_word:\n",
    "            lives -=1\n",
    "            if lives == 0:\n",
    "                print(\"You lost!\")\n",
    "                break\n",
    "        print(display)\n",
    "        print(stages[lives])\n"
   ]
  },
  {
   "cell_type": "code",
   "execution_count": 14,
   "metadata": {},
   "outputs": [],
   "source": [
    "# Final challenge\n",
    "import random\n",
    "from hangman_art import logo, stages\n",
    "from hangman_words import word_list"
   ]
  },
  {
   "cell_type": "code",
   "execution_count": 19,
   "metadata": {},
   "outputs": [
    {
     "name": "stdout",
     "output_type": "stream",
     "text": [
      " \n",
      " _                                             \n",
      "| |                                            \n",
      "| |__   __ _ _ __   __ _ _ __ ___   __ _ _ __  \n",
      "| '_ \\ / _` | '_ \\ / _` | '_ ` _ \\ / _` | '_ \\ \n",
      "| | | | (_| | | | | (_| | | | | | | (_| | | | |\n",
      "|_| |_|\\__,_|_| |_|\\__, |_| |_| |_|\\__,_|_| |_|\n",
      "                    __/ |                      \n",
      "                   |___/    \n",
      "['_', '_', '_', 'a', '_', 'a', '_']\n",
      "\n",
      "  +---+\n",
      "  |   |\n",
      "      |\n",
      "      |\n",
      "      |\n",
      "      |\n",
      "=========\n",
      "\n",
      "You already guessed a\n",
      "['_', '_', '_', 'a', '_', 'a', '_']\n",
      "\n",
      "  +---+\n",
      "  |   |\n",
      "      |\n",
      "      |\n",
      "      |\n",
      "      |\n",
      "=========\n",
      "\n",
      "You guessed b which is not in the chosen word. You lost a life.\n",
      "['_', '_', '_', 'a', '_', 'a', '_']\n",
      "\n",
      "  +---+\n",
      "  |   |\n",
      "  O   |\n",
      "      |\n",
      "      |\n",
      "      |\n",
      "=========\n",
      "\n",
      "You guessed e which is not in the chosen word. You lost a life.\n",
      "['_', '_', '_', 'a', '_', 'a', '_']\n",
      "\n",
      "  +---+\n",
      "  |   |\n",
      "  O   |\n",
      "  |   |\n",
      "      |\n",
      "      |\n",
      "=========\n",
      "\n",
      "You guessed x which is not in the chosen word. You lost a life.\n",
      "['_', '_', '_', 'a', '_', 'a', '_']\n",
      "\n",
      "  +---+\n",
      "  |   |\n",
      "  O   |\n",
      " /|   |\n",
      "      |\n",
      "      |\n",
      "=========\n",
      "['c', '_', '_', 'a', 'c', 'a', '_']\n",
      "\n",
      "  +---+\n",
      "  |   |\n",
      "  O   |\n",
      " /|   |\n",
      "      |\n",
      "      |\n",
      "=========\n",
      "You guessed e which is not in the chosen word. You lost a life.\n",
      "['c', '_', '_', 'a', 'c', 'a', '_']\n",
      "\n",
      "  +---+\n",
      "  |   |\n",
      "  O   |\n",
      " /|\\  |\n",
      "      |\n",
      "      |\n",
      "=========\n",
      "\n",
      "['c', '_', '_', 'a', 'c', 'a', '_']\n",
      "\n",
      "  +---+\n",
      "  |   |\n",
      "  O   |\n",
      " /|\\  |\n",
      "      |\n",
      "      |\n",
      "=========\n",
      "\n",
      "You guessed gg which is not in the chosen word. You lost a life.\n",
      "['c', '_', '_', 'a', 'c', 'a', '_']\n",
      "\n",
      "  +---+\n",
      "  |   |\n",
      "  O   |\n",
      " /|\\  |\n",
      " /    |\n",
      "      |\n",
      "=========\n",
      "\n",
      "You guessed k which is not in the chosen word. You lost a life.\n",
      "You lost!\n",
      "The word was curacao\n"
     ]
    }
   ],
   "source": [
    "print(logo)\n",
    "lives = 6\n",
    "# If guess is not a letter, reduce lives by 1\n",
    "chosen_word = random.choice(word_list)\n",
    "display = ['_'] * len(chosen_word)\n",
    "\n",
    "while '_' in display:\n",
    "    if lives > 0:\n",
    "        guess = input(\"Please guess a letter.\").lower()\n",
    "        if guess in display:\n",
    "            print(f\"You already guessed {guess}\")\n",
    "\n",
    "        for i in range(len(chosen_word)):\n",
    "            if guess == chosen_word[i]:\n",
    "                display[i] = guess\n",
    "        if guess not in chosen_word:\n",
    "            lives -=1\n",
    "            print(f\"You guessed {guess} which is not in the chosen word. You lost a life.\")\n",
    "            if lives == 0:\n",
    "                print(\"You lost!\")\n",
    "                print(f\"The word was {chosen_word}\")\n",
    "                break\n",
    "        print(display)\n",
    "        print(stages[lives])\n"
   ]
  },
  {
   "cell_type": "code",
   "execution_count": null,
   "metadata": {},
   "outputs": [],
   "source": []
  }
 ],
 "metadata": {
  "kernelspec": {
   "display_name": "Python 3.8.5 ('base')",
   "language": "python",
   "name": "python3"
  },
  "language_info": {
   "codemirror_mode": {
    "name": "ipython",
    "version": 3
   },
   "file_extension": ".py",
   "mimetype": "text/x-python",
   "name": "python",
   "nbconvert_exporter": "python",
   "pygments_lexer": "ipython3",
   "version": "3.8.5"
  },
  "orig_nbformat": 4,
  "vscode": {
   "interpreter": {
    "hash": "cde9e06954608812f36a56132da0251c351f6ad8984d203ba87e4f78021e1e3f"
   }
  }
 },
 "nbformat": 4,
 "nbformat_minor": 2
}
