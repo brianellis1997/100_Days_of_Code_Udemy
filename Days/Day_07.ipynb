{
 "cells": [
  {
   "cell_type": "code",
   "execution_count": 3,
   "metadata": {},
   "outputs": [],
   "source": [
    "import random"
   ]
  },
  {
   "cell_type": "code",
   "execution_count": 2,
   "metadata": {},
   "outputs": [],
   "source": [
    "word_list = ['ardvark', 'baboon', 'camel']"
   ]
  },
  {
   "cell_type": "code",
   "execution_count": 11,
   "metadata": {},
   "outputs": [
    {
     "data": {
      "text/plain": [
       "'baboon'"
      ]
     },
     "execution_count": 11,
     "metadata": {},
     "output_type": "execute_result"
    }
   ],
   "source": [
    "# Randomly choose a word from the list\n",
    "chosen_word = random.choice(word_list)\n",
    "chosen_word"
   ]
  },
  {
   "cell_type": "code",
   "execution_count": 16,
   "metadata": {},
   "outputs": [],
   "source": [
    "# Ask user to guess letter and assign answer\n",
    "guess = input(\"Please guess a letter.\").lower() # 'O'"
   ]
  },
  {
   "cell_type": "code",
   "execution_count": 17,
   "metadata": {},
   "outputs": [
    {
     "name": "stdout",
     "output_type": "stream",
     "text": [
      "False\n",
      "False\n",
      "False\n",
      "True\n",
      "True\n",
      "False\n"
     ]
    }
   ],
   "source": [
    "# Check if letter guessed is one of letters in chosen word\n",
    "for i in range(len(chosen_word)):\n",
    "    print(guess == chosen_word[i])"
   ]
  },
  {
   "cell_type": "code",
   "execution_count": 18,
   "metadata": {},
   "outputs": [
    {
     "data": {
      "text/plain": [
       "['_', '_', '_', '_', '_', '_']"
      ]
     },
     "execution_count": 18,
     "metadata": {},
     "output_type": "execute_result"
    }
   ],
   "source": [
    "# Step 2\n",
    "# For each letter in chosen_word, add underscore to display\n",
    "display = ['_'] * len(chosen_word)\n",
    "display"
   ]
  },
  {
   "cell_type": "code",
   "execution_count": 19,
   "metadata": {},
   "outputs": [
    {
     "data": {
      "text/plain": [
       "['_', '_', '_', 'o', 'o', '_']"
      ]
     },
     "execution_count": 19,
     "metadata": {},
     "output_type": "execute_result"
    }
   ],
   "source": [
    "# Loop through each position in chosen word, reveal letter in display if match\n",
    "for i in range(len(chosen_word)):\n",
    "    if guess == chosen_word[i]:\n",
    "        display[i] = guess\n",
    "\n",
    "display"
   ]
  },
  {
   "cell_type": "code",
   "execution_count": 24,
   "metadata": {},
   "outputs": [
    {
     "name": "stdout",
     "output_type": "stream",
     "text": [
      "Psst, the chosen word is camel\n"
     ]
    },
    {
     "data": {
      "text/plain": [
       "['_', 'a', '_', '_', '_']"
      ]
     },
     "execution_count": 24,
     "metadata": {},
     "output_type": "execute_result"
    }
   ],
   "source": [
    "# End of step 2\n",
    "word_list = ['ardvark', 'baboon', 'camel']\n",
    "chosen_word = random.choice(word_list)\n",
    "# Ask user to guess letter and assign answer\n",
    "guess = input(\"Please guess a letter.\").lower() # 'O'\n",
    "display = ['_'] * len(chosen_word)\n",
    "\n",
    "# Testing purposes\n",
    "print(f'Psst, the chosen word is {chosen_word}')\n",
    "# Loop through each position in chosen word, reveal letter in display if match\n",
    "for i in range(len(chosen_word)):\n",
    "    if guess == chosen_word[i]:\n",
    "        display[i] = guess\n",
    "\n",
    "display"
   ]
  },
  {
   "cell_type": "code",
   "execution_count": null,
   "metadata": {},
   "outputs": [],
   "source": []
  }
 ],
 "metadata": {
  "kernelspec": {
   "display_name": "Python 3.8.5 ('base')",
   "language": "python",
   "name": "python3"
  },
  "language_info": {
   "codemirror_mode": {
    "name": "ipython",
    "version": 3
   },
   "file_extension": ".py",
   "mimetype": "text/x-python",
   "name": "python",
   "nbconvert_exporter": "python",
   "pygments_lexer": "ipython3",
   "version": "3.8.5"
  },
  "orig_nbformat": 4,
  "vscode": {
   "interpreter": {
    "hash": "cde9e06954608812f36a56132da0251c351f6ad8984d203ba87e4f78021e1e3f"
   }
  }
 },
 "nbformat": 4,
 "nbformat_minor": 2
}
