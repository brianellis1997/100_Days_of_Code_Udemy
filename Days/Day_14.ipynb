{
 "cells": [
  {
   "cell_type": "code",
   "execution_count": 1,
   "metadata": {},
   "outputs": [],
   "source": [
    "from Day_14_art import * # logo, vs\n",
    "from Day_14_game_data import data\n",
    "import random"
   ]
  },
  {
   "cell_type": "code",
   "execution_count": 16,
   "metadata": {},
   "outputs": [],
   "source": [
    "def compare():\n",
    "    choice1 = random.choice(data)\n",
    "    choice2 = random.choice(data)\n",
    "    winner = 'a' if choice1['follower_count'] > choice2['follower_count'] else 'b'\n",
    "    return choice1, choice2, winner\n",
    "\n",
    "def higher_lower():\n",
    "    print(logo)\n",
    "    score = 0\n",
    "    \n",
    "    while True:\n",
    "        choice1, choice2, winner = compare()\n",
    "        print(f\"Compare A: {choice1['name']}, a {choice1['description']}, from {choice1['country']}.\")\n",
    "        print(vs)\n",
    "        print(f\"Against B: {choice2['name']}, a {choice2['description']}, from {choice2['country']}.\")\n",
    "        user_choice = input(f\"Who has more followers? Type 'A' or 'B': \").lower()\n",
    "        if user_choice == winner:\n",
    "            score += 1\n",
    "            print(f\"You're right! Current score: {score}\")\n",
    "        else:\n",
    "            print(f\"Sorry, that's wrong. Final score: {score}\")\n",
    "            return"
   ]
  },
  {
   "cell_type": "code",
   "execution_count": 18,
   "metadata": {},
   "outputs": [
    {
     "name": "stdout",
     "output_type": "stream",
     "text": [
      "\n",
      "    __  ___       __             \n",
      "   / / / (_)___ _/ /_  ___  _____\n",
      "  / /_/ / / __ `/ __ \\/ _ \\/ ___/\n",
      " / __  / / /_/ / / / /  __/ /    \n",
      "/_/ ///_/\\__, /_/ /_/\\___/_/     \n",
      "   / /  /____/_      _____  _____\n",
      "  / /   / __ \\ | /| / / _ \\/ ___/\n",
      " / /___/ /_/ / |/ |/ /  __/ /    \n",
      "/_____/\\____/|__/|__/\\___/_/     \n",
      "\n",
      "Compare A: Cristiano Ronaldo, a Footballer, from Portugal.\n",
      "\n",
      " _    __    \n",
      "| |  / /____\n",
      "| | / / ___/\n",
      "| |/ (__  ) \n",
      "|___/____(_)\n",
      "\n",
      "Against B: Cardi B, a Musician, from United States.\n",
      "You're right! Current score: 1\n",
      "Compare A: Nicki Minaj, a Musician, from Trinidad and Tobago.\n",
      "\n",
      " _    __    \n",
      "| |  / /____\n",
      "| | / / ___/\n",
      "| |/ (__  ) \n",
      "|___/____(_)\n",
      "\n",
      "Against B: Vin Diesel, a Actor, from United States.\n",
      "You're right! Current score: 2\n",
      "Compare A: Gigi Hadid, a Model, from United States.\n",
      "\n",
      " _    __    \n",
      "| |  / /____\n",
      "| | / / ___/\n",
      "| |/ (__  ) \n",
      "|___/____(_)\n",
      "\n",
      "Against B: Miley Cyrus, a Musician and actress, from United States.\n",
      "You're right! Current score: 3\n",
      "Compare A: Drake, a Musician, from Canada.\n",
      "\n",
      " _    __    \n",
      "| |  / /____\n",
      "| | / / ___/\n",
      "| |/ (__  ) \n",
      "|___/____(_)\n",
      "\n",
      "Against B: Demi Lovato, a Musician and actress, from United States.\n",
      "Sorry, that's wrong. Final score: 3\n"
     ]
    }
   ],
   "source": [
    "higher_lower()"
   ]
  },
  {
   "cell_type": "code",
   "execution_count": null,
   "metadata": {},
   "outputs": [],
   "source": []
  }
 ],
 "metadata": {
  "kernelspec": {
   "display_name": "Python 3.8.5 ('base')",
   "language": "python",
   "name": "python3"
  },
  "language_info": {
   "codemirror_mode": {
    "name": "ipython",
    "version": 3
   },
   "file_extension": ".py",
   "mimetype": "text/x-python",
   "name": "python",
   "nbconvert_exporter": "python",
   "pygments_lexer": "ipython3",
   "version": "3.8.5"
  },
  "orig_nbformat": 4,
  "vscode": {
   "interpreter": {
    "hash": "cde9e06954608812f36a56132da0251c351f6ad8984d203ba87e4f78021e1e3f"
   }
  }
 },
 "nbformat": 4,
 "nbformat_minor": 2
}
