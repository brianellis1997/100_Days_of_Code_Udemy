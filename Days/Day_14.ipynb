{
 "cells": [
  {
   "cell_type": "code",
   "execution_count": 1,
   "metadata": {},
   "outputs": [],
   "source": [
    "from Day_14_art import * # logo, vs\n",
    "from Day_14_game_data import data\n",
    "import random"
   ]
  },
  {
   "cell_type": "code",
   "execution_count": 22,
   "metadata": {},
   "outputs": [],
   "source": [
    "def init_compare():\n",
    "    choice1 = random.choice(data)\n",
    "    choice2 = random.choice(data)\n",
    "    winner = 'a' if choice1['follower_count'] > choice2['follower_count'] else 'b'\n",
    "    return choice1, choice2, winner\n",
    "\n",
    "def cont_compare(choice1):\n",
    "    choice2 = random.choice(data)\n",
    "    winner = 'a' if choice1['follower_count'] > choice2['follower_count'] else 'b'\n",
    "    return choice1, choice2, winner\n",
    "\n",
    "def higher_lower():\n",
    "    print(logo)\n",
    "    score = 0\n",
    "    \n",
    "    choice1, choice2, winner = init_compare()\n",
    "\n",
    "    while True:\n",
    "        print(f\"Compare A: {choice1['name']}, a {choice1['description']}, from {choice1['country']}.\")\n",
    "        print(vs)\n",
    "        print(f\"Against B: {choice2['name']}, a {choice2['description']}, from {choice2['country']}.\")\n",
    "        user_choice = input(f\"Who has more followers? Type 'A' or 'B': \").lower()\n",
    "        if user_choice == winner:\n",
    "            score += 1\n",
    "            print(f\"You're right! Current score: {score}\")\n",
    "            tmp = choice1 if choice1['follower_count'] > choice2['follower_count'] else choice2\n",
    "            choice1, choice2, winner = cont_compare(tmp)\n",
    "        else:\n",
    "            print(f\"Sorry, that's wrong. Final score: {score}\")\n",
    "            return"
   ]
  },
  {
   "cell_type": "code",
   "execution_count": 25,
   "metadata": {},
   "outputs": [
    {
     "name": "stdout",
     "output_type": "stream",
     "text": [
      "\n",
      "    __  ___       __             \n",
      "   / / / (_)___ _/ /_  ___  _____\n",
      "  / /_/ / / __ `/ __ \\/ _ \\/ ___/\n",
      " / __  / / /_/ / / / /  __/ /    \n",
      "/_/ ///_/\\__, /_/ /_/\\___/_/     \n",
      "   / /  /____/_      _____  _____\n",
      "  / /   / __ \\ | /| / / _ \\/ ___/\n",
      " / /___/ /_/ / |/ |/ /  __/ /    \n",
      "/_____/\\____/|__/|__/\\___/_/     \n",
      "\n",
      "Compare A: Kendall Jenner, a Reality TV personality and Model, from United States.\n",
      "\n",
      " _    __    \n",
      "| |  / /____\n",
      "| | / / ___/\n",
      "| |/ (__  ) \n",
      "|___/____(_)\n",
      "\n",
      "Against B: Kylie Jenner, a Reality TV personality and businesswoman and Self-Made Billionaire, from United States.\n",
      "You're right! Current score: 1\n",
      "Compare A: Kylie Jenner, a Reality TV personality and businesswoman and Self-Made Billionaire, from United States.\n",
      "\n",
      " _    __    \n",
      "| |  / /____\n",
      "| | / / ___/\n",
      "| |/ (__  ) \n",
      "|___/____(_)\n",
      "\n",
      "Against B: David Beckham, a Footballer, from United Kingdom.\n",
      "You're right! Current score: 2\n",
      "Compare A: Kylie Jenner, a Reality TV personality and businesswoman and Self-Made Billionaire, from United States.\n",
      "\n",
      " _    __    \n",
      "| |  / /____\n",
      "| | / / ___/\n",
      "| |/ (__  ) \n",
      "|___/____(_)\n",
      "\n",
      "Against B: Cardi B, a Musician, from United States.\n",
      "You're right! Current score: 3\n",
      "Compare A: Kylie Jenner, a Reality TV personality and businesswoman and Self-Made Billionaire, from United States.\n",
      "\n",
      " _    __    \n",
      "| |  / /____\n",
      "| | / / ___/\n",
      "| |/ (__  ) \n",
      "|___/____(_)\n",
      "\n",
      "Against B: Priyanka Chopra Jonas, a Actress and musician, from India.\n",
      "You're right! Current score: 4\n",
      "Compare A: Kylie Jenner, a Reality TV personality and businesswoman and Self-Made Billionaire, from United States.\n",
      "\n",
      " _    __    \n",
      "| |  / /____\n",
      "| | / / ___/\n",
      "| |/ (__  ) \n",
      "|___/____(_)\n",
      "\n",
      "Against B: Ronaldinho, a Footballer, from Brasil.\n",
      "You're right! Current score: 5\n",
      "Compare A: Kylie Jenner, a Reality TV personality and businesswoman and Self-Made Billionaire, from United States.\n",
      "\n",
      " _    __    \n",
      "| |  / /____\n",
      "| | / / ___/\n",
      "| |/ (__  ) \n",
      "|___/____(_)\n",
      "\n",
      "Against B: Dwayne Johnson, a Actor and professional wrestler, from United States.\n",
      "Sorry, that's wrong. Final score: 5\n"
     ]
    }
   ],
   "source": [
    "higher_lower()"
   ]
  },
  {
   "cell_type": "code",
   "execution_count": null,
   "metadata": {},
   "outputs": [],
   "source": []
  }
 ],
 "metadata": {
  "kernelspec": {
   "display_name": "Python 3.8.5 ('base')",
   "language": "python",
   "name": "python3"
  },
  "language_info": {
   "codemirror_mode": {
    "name": "ipython",
    "version": 3
   },
   "file_extension": ".py",
   "mimetype": "text/x-python",
   "name": "python",
   "nbconvert_exporter": "python",
   "pygments_lexer": "ipython3",
   "version": "3.8.5"
  },
  "orig_nbformat": 4,
  "vscode": {
   "interpreter": {
    "hash": "cde9e06954608812f36a56132da0251c351f6ad8984d203ba87e4f78021e1e3f"
   }
  }
 },
 "nbformat": 4,
 "nbformat_minor": 2
}
